{
 "cells": [
  {
   "cell_type": "code",
   "execution_count": 1,
   "id": "f0511f40",
   "metadata": {},
   "outputs": [],
   "source": [
    "# Webスクレイピングに最低限必要なライブリをインポート\n",
    "import requests\n",
    "from bs4 import BeautifulSoup"
   ]
  },
  {
   "cell_type": "markdown",
   "id": "5cb91121",
   "metadata": {},
   "source": [
    "# HTTPリクエスト\n",
    "## 基本のリクエスト"
   ]
  },
  {
   "cell_type": "code",
   "execution_count": 38,
   "id": "fe8d4882",
   "metadata": {},
   "outputs": [],
   "source": [
    "#アクセスしたいWebサイトURLを指定\n",
    "url = 'https://www.musashino-u.ac.jp/'\n",
    "\n",
    "#WebサーバーにHTTPリクエストを送信\n",
    "#レスポンスを変数に格納\n",
    "res = requests.get(url)"
   ]
  },
  {
   "cell_type": "code",
   "execution_count": 39,
   "id": "a4c1811a",
   "metadata": {},
   "outputs": [
    {
     "name": "stdout",
     "output_type": "stream",
     "text": [
      "レスポンス: <Response [200]>\n",
      "レスポンスの型: <class 'requests.models.Response'>\n",
      "ステータスコード: 200\n",
      "ステータスメッセージ: OK\n",
      "リクエスト: <PreparedRequest [GET]>\n",
      "リクエストの型: <class 'requests.models.PreparedRequest'>\n",
      "リクエストのヘッダー: {'User-Agent': 'python-requests/2.32.5', 'Accept-Encoding': 'gzip, deflate', 'Accept': '*/*', 'Connection': 'keep-alive'}\n",
      "リクエストのメソッド: GET\n",
      "リクエストのURL: https://www.musashino-u.ac.jp/\n"
     ]
    }
   ],
   "source": [
    "print(f\"レスポンス: {res}\")  # レスポンスオブジェクトを表示\n",
    "print(f\"レスポンスの型: {type(res)}\")  # レスポンスオブジェクトの型を表示\n",
    "print(f\"ステータスコード: {res.status_code}\")  # ステータスコードを表示\n",
    "print(f\"ステータスメッセージ: {res.reason}\")  # ステータスメッセージを表示\n",
    "\n",
    "print(f\"リクエスト: {res.request}\")  # リクエストオブジェクトを表示\n",
    "print(f\"リクエストの型: {type(res.request)}\")  # リクエストオブジェクトの型を表示\n",
    "print(f\"リクエストのヘッダー: {res.request.headers}\")  # リクエストヘッダーを表示\n",
    "print(f\"リクエストのメソッド: {res.request.method}\")  # リクエストメソッドを表示\n",
    "print(f\"リクエストのURL: {res.request.url}\")  # リクエストURLを表示"
   ]
  },
  {
   "cell_type": "code",
   "execution_count": 40,
   "id": "4c641788",
   "metadata": {},
   "outputs": [
    {
     "ename": "AttributeError",
     "evalue": "property 'apparent_encoding' of 'Response' object has no setter",
     "output_type": "error",
     "traceback": [
      "\u001b[31m---------------------------------------------------------------------------\u001b[39m",
      "\u001b[31mAttributeError\u001b[39m                            Traceback (most recent call last)",
      "\u001b[36mCell\u001b[39m\u001b[36m \u001b[39m\u001b[32mIn[40]\u001b[39m\u001b[32m, line 2\u001b[39m\n\u001b[32m      1\u001b[39m \u001b[38;5;66;03m#レスポンス\u001b[39;00m\n\u001b[32m----> \u001b[39m\u001b[32m2\u001b[39m \u001b[43mres\u001b[49m\u001b[43m.\u001b[49m\u001b[43mapparent_encoding\u001b[49m = res.apparent_encoding \u001b[38;5;66;03m#レスポンス\u001b[39;00m\n\u001b[32m      4\u001b[39m \u001b[38;5;28mprint\u001b[39m(\u001b[33mf\u001b[39m\u001b[33m\"\u001b[39m\u001b[33mレスポンスヘッダー: \u001b[39m\u001b[38;5;132;01m{\u001b[39;00mres.headers\u001b[38;5;132;01m}\u001b[39;00m\u001b[33m\"\u001b[39m)  \u001b[38;5;66;03m# レスポンスヘッダーを表示\u001b[39;00m\n\u001b[32m      5\u001b[39m \u001b[38;5;28mprint\u001b[39m(\u001b[33mf\u001b[39m\u001b[33m\"\u001b[39m\u001b[33mレスポンスボディ: \u001b[39m\u001b[38;5;132;01m{\u001b[39;00mres.text\u001b[38;5;132;01m}\u001b[39;00m\u001b[33m\"\u001b[39m)  \u001b[38;5;66;03m# レスポンスボディを表示\u001b[39;00m\n",
      "\u001b[31mAttributeError\u001b[39m: property 'apparent_encoding' of 'Response' object has no setter"
     ]
    }
   ],
   "source": [
    "#レスポンス\n",
    "res.apparent_encoding = res.apparent_encoding #レスポンス\n",
    "\n",
    "print(f\"レスポンスヘッダー: {res.headers}\")  # レスポンスヘッダーを表示\n",
    "print(f\"レスポンスボディ: {res.text}\")  # レスポンスボディを表示"
   ]
  },
  {
   "cell_type": "code",
   "execution_count": null,
   "id": "70d2f61a",
   "metadata": {},
   "outputs": [],
   "source": [
    "headers = {\n",
    "    'User-Agent': 'Mozilla/5.0 (Windows NT 10.0; Win64; x64) AppleWebKit/537.36 (KHTML, like Gecko) Chrome/58.0.3029.110 Safari/537.3'\n",
    "}"
   ]
  },
  {
   "cell_type": "code",
   "execution_count": null,
   "id": "2ae9a8e4",
   "metadata": {},
   "outputs": [],
   "source": [
    "# 別のURLにもアクセスしてみる\n",
    "# url = 'https://ja.wikipedia.org/wiki/%E6%AD%A6%E8%94%B5%E9%87%8E%E5%A4%A7%E5%AD%A6'\n",
    "url = 'https://ja.wikipedia.org/wiki/武蔵野大学'\n",
    "\n",
    "res = requests.get(url, headers=headers)\n",
    "print(f\"ステータスコード: {res.status_code}\")  # ステータスコードを表示\n",
    "print(f\"レスポンスボディの一部: {res.text}\")  # レスポンスボディを表示"
   ]
  },
  {
   "cell_type": "markdown",
   "id": "647557ac",
   "metadata": {},
   "source": [
    "## パラメータ付きのリクエスト"
   ]
  },
  {
   "cell_type": "code",
   "execution_count": null,
   "id": "60811808",
   "metadata": {},
   "outputs": [
    {
     "ename": "NameError",
     "evalue": "name 'headers' is not defined",
     "output_type": "error",
     "traceback": [
      "\u001b[31m---------------------------------------------------------------------------\u001b[39m",
      "\u001b[31mNameError\u001b[39m                                 Traceback (most recent call last)",
      "\u001b[36mCell\u001b[39m\u001b[36m \u001b[39m\u001b[32mIn[16]\u001b[39m\u001b[32m, line 6\u001b[39m\n\u001b[32m      2\u001b[39m url = \u001b[33m\"\u001b[39m\u001b[33mhttps://www.musashino-u.ac.jp/search.html\u001b[39m\u001b[33m\"\u001b[39m\n\u001b[32m      3\u001b[39m params = {\n\u001b[32m      4\u001b[39m     \u001b[33m'\u001b[39m\u001b[33mquery\u001b[39m\u001b[33m'\u001b[39m: \u001b[33m'\u001b[39m\u001b[33mデータサイエンス\u001b[39m\u001b[33m'\u001b[39m\n\u001b[32m      5\u001b[39m }\n\u001b[32m----> \u001b[39m\u001b[32m6\u001b[39m res = requests.get(url, headers=\u001b[43mheaders\u001b[49m, params=params)\n\u001b[32m      7\u001b[39m res.encoding = res.apparent_encoding \u001b[38;5;66;03m#レスポンス\u001b[39;00m\n\u001b[32m      8\u001b[39m \u001b[38;5;28mprint\u001b[39m(\u001b[33mf\u001b[39m\u001b[33m\"\u001b[39m\u001b[33mステータスコード: \u001b[39m\u001b[38;5;132;01m{\u001b[39;00mres.status_code\u001b[38;5;132;01m}\u001b[39;00m\u001b[33m\"\u001b[39m)  \u001b[38;5;66;03m# ステータスコードを表示\u001b[39;00m\n",
      "\u001b[31mNameError\u001b[39m: name 'headers' is not defined"
     ]
    }
   ],
   "source": [
    "# url = \"https://www.musashino-u.ac.jp/search.html?query=データサイエンス\"\n",
    "url = \"https://www.musashino-u.ac.jp/search.html\"\n",
    "params = {\n",
    "    'query': 'データサイエンス'\n",
    "}\n",
    "res = requests.get(url, headers=headers, params=params)\n",
    "res.encoding = res.apparent_encoding #レスポンス\n",
    "print(f\"ステータスコード: {res.status_code}\")  # ステータスコードを表示\n",
    "print(f\"レスポンスボディ: {res.text}\")  # レスポンスボディを表示"
   ]
  },
  {
   "cell_type": "markdown",
   "id": "e031d765",
   "metadata": {},
   "source": [
    "# BeautifullSoupでHTMLソースから任意の情報を取得する"
   ]
  },
  {
   "cell_type": "code",
   "execution_count": 46,
   "id": "a4222127",
   "metadata": {},
   "outputs": [
    {
     "ename": "NameError",
     "evalue": "name 'headers' is not defined",
     "output_type": "error",
     "traceback": [
      "\u001b[31m---------------------------------------------------------------------------\u001b[39m",
      "\u001b[31mNameError\u001b[39m                                 Traceback (most recent call last)",
      "\u001b[36mCell\u001b[39m\u001b[36m \u001b[39m\u001b[32mIn[46]\u001b[39m\u001b[32m, line 2\u001b[39m\n\u001b[32m      1\u001b[39m url = \u001b[33m'\u001b[39m\u001b[33mhtttps://www.musashino-u.ac.jp/\u001b[39m\u001b[33m'\u001b[39m\n\u001b[32m----> \u001b[39m\u001b[32m2\u001b[39m res = requests.get(url, headers=\u001b[43mheaders\u001b[49m)\n\u001b[32m      3\u001b[39m res.encoding = res.apparent_encoding\n\u001b[32m      4\u001b[39m \u001b[38;5;28mprint\u001b[39m(\u001b[33mf\u001b[39m\u001b[33m\"\u001b[39m\u001b[33mステータスコード: \u001b[39m\u001b[38;5;132;01m{\u001b[39;00mres.status_code\u001b[38;5;132;01m}\u001b[39;00m\u001b[33m\"\u001b[39m)  \u001b[38;5;66;03m# ステータスコードを表示\u001b[39;00m\n",
      "\u001b[31mNameError\u001b[39m: name 'headers' is not defined"
     ]
    }
   ],
   "source": [
    "url = 'htttps://www.musashino-u.ac.jp/'\n",
    "res = requests.get(url, headers=headers)\n",
    "res.encoding = res.apparent_encoding\n",
    "print(f\"ステータスコード: {res.status_code}\")  # ステータスコードを表示"
   ]
  },
  {
   "cell_type": "code",
   "execution_count": 44,
   "id": "40a0e9c0",
   "metadata": {},
   "outputs": [
    {
     "name": "stdout",
     "output_type": "stream",
     "text": [
      "soupの型: <class 'bs4.BeautifulSoup'>\n"
     ]
    }
   ],
   "source": [
    "# HTMLのソースコードを解析\n",
    "soup = BeautifulSoup(res.text, 'html.parser')\n",
    "print(f\"soupの型: {type(soup)}\")  # BeautifulSoupオブジェクトの型を表示"
   ]
  },
  {
   "cell_type": "code",
   "execution_count": null,
   "id": "22daafda",
   "metadata": {},
   "outputs": [
    {
     "name": "stdout",
     "output_type": "stream",
     "text": [
      "<a>タグ: <a href=\"#main\">\n",
      "\t\t\t\t\tãã®ãã¼ã¸ã®æ¬æã¸ç§»å\n",
      "\t\t\t\t</a>\n",
      "<a>タグの型: <class 'bs4.element.Tag'>\n"
     ]
    }
   ],
   "source": [
    "#ソースコード全体から<a>タグを抽出\n",
    "soup_div = soup.div\n",
    "\n",
    "print(f\"<a>タグ: {soup_a}\")  # 最初に見つかった<a>タグを表示\n",
    "print(f\"<a>タグの型: {type(soup_a)}\")  # <a>タグの型を表示\n",
    "\n",
    "soup_div_div = soup_div.div\n",
    "print(f\"<div>タグの中の: {soup_div_div}\")  # 最初に見つかった<div>タグを表示\n",
    "print(f\"<div>タグの中の<div>タグの型: {type(soup_div_div)}\")  # <div>タグの型を表示"
   ]
  },
  {
   "cell_type": "code",
   "execution_count": 49,
   "id": "04cb6995",
   "metadata": {},
   "outputs": [
    {
     "name": "stdout",
     "output_type": "stream",
     "text": [
      "<div>タグの中の: <div class=\"c-skip\">\n",
      "<a href=\"#main\">\n",
      "\t\t\t\t\tãã®ãã¼ã¸ã®æ¬æã¸ç§»å\n",
      "\t\t\t\t</a>\n",
      "</div>\n",
      "<div>タグの中の<div>タグの型: <class 'bs4.element.Tag'>\n"
     ]
    }
   ],
   "source": [
    "soup_div_div = soup.div.div\n",
    "print(f\"<div>タグの中の: {soup_div_div}\")  # 最初に見つかった<div>タグを表示\n",
    "print(f\"<div>タグの中の<div>タグの型: {type(soup_div_div)}\")  # <div>タグの型を表示"
   ]
  },
  {
   "cell_type": "code",
   "execution_count": 51,
   "id": "28c00011",
   "metadata": {},
   "outputs": [
    {
     "name": "stdout",
     "output_type": "stream",
     "text": [
      "<a>タグのテキスト: \n",
      "\t\t\t\t\tãã®ãã¼ã¸ã®æ¬æã¸ç§»å\n",
      "\t\t\t\t\n",
      "<div>タグの中の<div>タグのテキスト: None\n"
     ]
    }
   ],
   "source": [
    "# Tagオブジェクト.stringでタグ内の文字列を取得\n",
    "print(f\"<a>タグのテキスト: {soup_a.string}\")  # <a>タグの中のテキストを表示\n",
    "\n",
    "#コンテンツがない場合、Noneが返される\n",
    "print(f\"<div>タグの中の<div>タグのテキスト: {soup_div_div.string}\")  # <div>タグの中のテキストを表示"
   ]
  }
 ],
 "metadata": {
  "kernelspec": {
   "display_name": ".venv",
   "language": "python",
   "name": "python3"
  },
  "language_info": {
   "codemirror_mode": {
    "name": "ipython",
    "version": 3
   },
   "file_extension": ".py",
   "mimetype": "text/x-python",
   "name": "python",
   "nbconvert_exporter": "python",
   "pygments_lexer": "ipython3",
   "version": "3.12.12"
  }
 },
 "nbformat": 4,
 "nbformat_minor": 5
}
